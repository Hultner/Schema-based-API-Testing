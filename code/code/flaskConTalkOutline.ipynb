{
 "cells": [
  {
   "cell_type": "code",
   "execution_count": 1,
   "metadata": {},
   "outputs": [
    {
     "name": "stdout",
     "output_type": "stream",
     "text": [
      "               .\n",
      "              ..:\n",
      "            Hultnér\n",
      "          Technologies\n",
      "\n",
      "@ahultner | https://hultner.se/\n"
     ]
    }
   ],
   "source": [
    "def s(x): return \" \"*(10+x)\n",
    "print(s(5)+\".\\n\"+s(4)+\"..:\\n\"+s(2)+\"Hultnér\\n\"+s(0)+\"Technologies\\n\\n@ahultner | https://hultner.se/\")"
   ]
  },
  {
   "cell_type": "markdown",
   "metadata": {},
   "source": [
    "# ⠠⠵ Schema-based-API-Testing\n",
    "**Automatically generate test-cases based on your API-schemas.**  \n",
    "Shorter intro text.\n"
   ]
  },
  {
   "cell_type": "markdown",
   "metadata": {},
   "source": [
    "## Index\n",
    "- Short introduction to API-schemas\n",
    "    - OpenAPI\n",
    "    - Swagger\n",
    "    - GraphQL\n",
    "    - Flask Liraries\n",
    "        - Flask RESTPlus (generated specs)\n",
    "        - Connexion (spec-first)\n",
    "        - Others?\n",
    "- Why?\n",
    "    - ...\n",
    "- The Problems\n",
    "    - Inaccurate schemas\n",
    "        - Undocumented behaviour\n",
    "    - Invalid schemas\n",
    "    - Unexpected, but allowed data leads to faults\n",
    "- Solution\n",
    "    - Schemathesis\n",
    "        - Hypothesis, Property Based Testing \n",
    "    - Background\n",
    "        - Swagger Conformance\n",
    "        - QuickREST\n",
    "        - …\n",
    "    - CLI\n",
    "    - pytest-interface\n",
    "    - Built in WSGI (and now ASGI) support\n",
    "        - Import app directly for faster testing\n",
    "    - HTTP interface\n",
    "        - Language/framework agnostic universal interface\n",
    "    - Stateful testing\n",
    "    - Fixups\n",
    "    - Targeted property based testing\n",
    "    - Record into VCR-cassettes\n",
    "        - Extra fields \n",
    "            - command. Full CLI command used to run Schemathesis.\n",
    "            - http_interactions.id. A numeric interaction ID within the current cassette.\n",
    "            - http_interactions.status. Type of test outcome, is one of SUCCESS, FAILURE, ERROR.\n",
    "            - http_interactions.seed. Hypothesis seed used in that particular case could be used as an argument to --hypothesis-seed CLI option to reproduce this request.\n",
    "            - http_interactions.elapsed. Time in seconds that a request took.\n",
    "- The Future\n",
    "- Questions"
   ]
  },
  {
   "cell_type": "markdown",
   "metadata": {},
   "source": [
    "## API Schemas\n",
    "\n",
    "API Schemas comes in many flavours, and have become increasingly more popular as our applications are becoming more decoupled. Today we will focus on the types supported by schemathesis, primarly OpenAPI.\n",
    "* REST/JSON based\n",
    "    * **OpenAPI 3**\n",
    "    * Swagger\n",
    "        * Predecessor to OpenAPI, nowadays a UI to OpenAPI\n",
    "* GraphQL (Schemathesis support WIP)\n",
    "    - Typed Query Langague, data format and Schema\n",
    "    \n",
    "### Flask Implementations of Swagger/OpenAPI\n",
    "There's plenty of libraries implementing OpenAPI-specs for Flask, I won't cover them all in this talk but I'm going to take examples from two approaches.\n",
    "\n",
    "* **Spec first, generate logic**: [Connexion](https://github.com/zalando/connexion) by Zalando\n",
    "* **Code first, generate spec**: [Flask RESTPlus](https://flask-restplus.readthedocs.io/en/stable/), [Flasgger](https://github.com/flasgger/flasgger), [APISpec](https://github.com/marshmallow-code/apispec), and many more.\n"
   ]
  },
  {
   "cell_type": "markdown",
   "metadata": {},
   "source": [
    "## The Problem\n",
    "Inaccurate data, mismatch between database layer and application layer, library defect, human error, invalid schemas.\n",
    "\n",
    "**Spectrum of defects**, not all errors are equal but they're never good, here's some examples.\n",
    "- Incorrect/non conforming schema, lower severity\n",
    "    - Waste engineering time 😴🥱\n",
    "    - Leads to incorrect assumptions 🧐\n",
    "    - Breaks client code generation 🤪\n",
    "- Unhandled error, lower severity\n",
    "    - Looks bad 🤨\n",
    "    - Inconvienience 😔😠\n",
    "    - Confusion 😕\n",
    "    - Further escalation? 😈\n",
    "- Logic errors, medium-high severity\n",
    "    - Data corruption 😢\n",
    "    - Incorrect behaviour 🤔😨\n",
    "    - Crashed application 🤯🤬\n",
    "    - Negative/incorrect billing 🧾⚠️📉\n",
    "- Security problems, high-critical severity\n",
    "    - Denial of Service (DOS) 😵🚧⏳💸\n",
    "    - Data leak 📇💳📑📤 😡🤭\n",
    "    - Authentication bypass 👺🔓😱\n",
    "    - Remote code exectuion (RCE) ⚰️🧨💣👾👾👾\n",
    "\n",
    "Many of these problems can be found in tricky corner cases and between layers, and are often missed by traditional testing approaches."
   ]
  },
  {
   "cell_type": "markdown",
   "metadata": {},
   "source": [
    "## The Solution\n",
    "Property based testing (PBT) is great at finding corner casing and lets the computer do much of the heavy lifting in creating exhuastive tests. \n",
    "\n",
    "### Hypothesis\n",
    "The defacto standard for PBT in Python. A property models the behaviour of a piece of code given a certain type of input.\n",
    "\n",
    "### Modelling properties\n",
    "To test the application we need to model the properties and their input, but can we do better?  \n",
    "The nice things with schemas is that they specify the expected behaviour of the application for a defined type of input, sounds a bit like properties, doesn't it?\n",
    "\n",
    "Can we leverage this? Yes we can with Schemathesis!"
   ]
  },
  {
   "cell_type": "markdown",
   "metadata": {},
   "source": [
    "## Schemathesis\n",
    "Takes over where it's spiritual predecessor *Swagger-Conformance* left of, both are based on Hypothesis.\n",
    "Inspiration from the QuickREST research paper.\n",
    "\n",
    "Automatically generates test cases based on what we already know about or application from our specs."
   ]
  },
  {
   "cell_type": "markdown",
   "metadata": {},
   "source": [
    "## The Future\n",
    "\n",
    "- GraphQL\n",
    "- Schema standard agnostic\n",
    "- OpenAPI 3.1\n",
    "- Faster test generation\n",
    "- Grow the community\n",
    "- Improve documentation\n",
    "- …"
   ]
  },
  {
   "cell_type": "code",
   "execution_count": 1,
   "metadata": {},
   "outputs": [],
   "source": [
    "import schemathesis"
   ]
  },
  {
   "cell_type": "code",
   "execution_count": null,
   "metadata": {},
   "outputs": [],
   "source": [
    "schemathesis"
   ]
  }
 ],
 "metadata": {
  "kernelspec": {
   "display_name": "Python 3",
   "language": "python",
   "name": "python3"
  },
  "language_info": {
   "codemirror_mode": {
    "name": "ipython",
    "version": 3
   },
   "file_extension": ".py",
   "mimetype": "text/x-python",
   "name": "python",
   "nbconvert_exporter": "python",
   "pygments_lexer": "ipython3",
   "version": "3.7.1"
  }
 },
 "nbformat": 4,
 "nbformat_minor": 4
}
