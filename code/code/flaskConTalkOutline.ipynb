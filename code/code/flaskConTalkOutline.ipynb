{
 "cells": [
  {
   "cell_type": "code",
   "execution_count": 1,
   "metadata": {},
   "outputs": [
    {
     "name": "stdout",
     "output_type": "stream",
     "text": [
      "               .\n",
      "              ..:\n",
      "            Hultnér\n",
      "          Technologies\n",
      "\n",
      "@ahultner | https://hultner.se/\n"
     ]
    }
   ],
   "source": [
    "def s(x): return \" \"*(10+x)\n",
    "print(s(5)+\".\\n\"+s(4)+\"..:\\n\"+s(2)+\"Hultnér\\n\"+s(0)+\"Technologies\\n\\n@ahultner | https://hultner.se/\")"
   ]
  },
  {
   "cell_type": "markdown",
   "metadata": {},
   "source": [
    "#  ⠠⠵ Schema-based-API-Testing\n",
    "**Automatically generate test-cases based on your API-schemas.**  \n",
    "Shorter intro text.\n"
   ]
  },
  {
   "cell_type": "markdown",
   "metadata": {},
   "source": [
    "## Index\n",
    "- Short introduction to API-schemas\n",
    "    - OpenAPI\n",
    "    - Swagger\n",
    "    - GraphQL\n",
    "    - Flask Liraries\n",
    "        - Flask RESTPlus (generated specs)\n",
    "        - Connexxion (spec-first)\n",
    "        - Others?\n",
    "- Why?\n",
    "    - ...\n",
    "- The Problems\n",
    "    - Inaccurate schemas\n",
    "        - Undocumented behaviour\n",
    "    - Invalid schemas\n",
    "    - Unexpected, but allowed data\n",
    "- Solution\n",
    "    - Schemathesis\n",
    "    - Background\n",
    "        - Swagger Conformance\n",
    "        - QuickREST\n",
    "        - …\n",
    "    - CLI\n",
    "    - pytest-interface\n",
    "    - Built in WSGI (and now ASGI) support\n",
    "        - Import app directly for faster testing\n",
    "    - HTTP interface\n",
    "        - Language/framework agnostic univers\n",
    "    - Stateful testing\n",
    "    - Fixups\n",
    "    - Targeted property based testing\n",
    "- The Future\n",
    "- Questions"
   ]
  },
  {
   "cell_type": "code",
   "execution_count": null,
   "metadata": {},
   "outputs": [],
   "source": []
  }
 ],
 "metadata": {
  "kernelspec": {
   "display_name": "Python 3",
   "language": "python",
   "name": "python3"
  },
  "language_info": {
   "codemirror_mode": {
    "name": "ipython",
    "version": 3
   },
   "file_extension": ".py",
   "mimetype": "text/x-python",
   "name": "python",
   "nbconvert_exporter": "python",
   "pygments_lexer": "ipython3",
   "version": "3.8.0"
  }
 },
 "nbformat": 4,
 "nbformat_minor": 4
}
