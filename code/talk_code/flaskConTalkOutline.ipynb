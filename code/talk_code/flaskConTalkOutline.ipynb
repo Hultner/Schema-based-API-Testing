{
 "cells": [
  {
   "cell_type": "code",
   "execution_count": 1,
   "metadata": {},
   "outputs": [
    {
     "name": "stdout",
     "output_type": "stream",
     "text": [
      "               .\n",
      "              ..:\n",
      "            Hultnér\n",
      "          Technologies\n",
      "\n",
      "@ahultner | https://hultner.se/\n"
     ]
    }
   ],
   "source": [
    "def s(x): return \" \"*(10+x)\n",
    "print(s(5)+\".\\n\"+s(4)+\"..:\\n\"+s(2)+\"Hultnér\\n\"+s(0)+\"Technologies\\n\\n@ahultner | https://hultner.se/\")"
   ]
  },
  {
   "cell_type": "markdown",
   "metadata": {},
   "source": [
    "# ⠠⠵ Schema-based-API-Testing\n",
    "**Automatically generate test-cases based on your API-schemas.**  \n",
    "Shorter intro text.\n"
   ]
  },
  {
   "cell_type": "markdown",
   "metadata": {},
   "source": [
    "## Index\n",
    "- Short introduction to API-schemas\n",
    "    - OpenAPI\n",
    "    - Swagger\n",
    "    - GraphQL\n",
    "    - Flask Liraries\n",
    "        - Flask RESTX / RESTPlus (generated specs)\n",
    "        - Connexion (spec-first)\n",
    "        - Others?\n",
    "- Why?\n",
    "    - ...\n",
    "- The Problems\n",
    "    - Inaccurate schemas\n",
    "        - Undocumented behaviour\n",
    "    - Invalid schemas\n",
    "    - Unexpected, but allowed data leads to faults\n",
    "- Solution\n",
    "    - Schemathesis\n",
    "        - Hypothesis, Property Based Testing \n",
    "    - Background\n",
    "        - Swagger Conformance\n",
    "        - QuickREST\n",
    "        - …\n",
    "    - CLI\n",
    "    - pytest-interface\n",
    "    - Built in WSGI (and now ASGI) support\n",
    "        - Import app directly for faster testing\n",
    "    - HTTP interface\n",
    "        - Language/framework agnostic universal interface\n",
    "    - Stateful testing\n",
    "    - Fixups\n",
    "    - Targeted property based testing\n",
    "    - Record into VCR-cassettes\n",
    "        - Extra fields \n",
    "            - command. Full CLI command used to run Schemathesis.\n",
    "            - http_interactions.id. A numeric interaction ID within the current cassette.\n",
    "            - http_interactions.status. Type of test outcome, is one of SUCCESS, FAILURE, ERROR.\n",
    "            - http_interactions.seed. Hypothesis seed used in that particular case could be used as an argument to --hypothesis-seed CLI option to reproduce this request.\n",
    "            - http_interactions.elapsed. Time in seconds that a request took.\n",
    "- The Future\n",
    "- Questions"
   ]
  },
  {
   "cell_type": "markdown",
   "metadata": {},
   "source": [
    "## API Schemas\n",
    "\n",
    "API Schemas comes in many flavours, and have become increasingly more popular as our applications are becoming more decoupled. Today we will focus on the types supported by schemathesis, primarly OpenAPI.\n",
    "- REST/JSON based\n",
    "    - **OpenAPI 3**\n",
    "    - Swagger\n",
    "        - Predecessor to OpenAPI, nowadays a UI to OpenAPI\n",
    "- GraphQL (Schemathesis support WIP)\n",
    "    - Typed Query Langague\n",
    "    - Schema and data format  \n",
    "\n",
    "\n",
    "### Flask Implementations of Swagger/OpenAPI\n",
    "\n",
    "There's plenty of libraries implementing OpenAPI-specs for Flask, I won't cover them all in this talk but I'm going to take examples from two approaches.\n",
    "\n",
    "- **Spec first, generate logic**: [Connexion](https://github.com/zalando/connexion) by Zalando\n",
    "- **Code first, generate spec**: [Flask-RESTX](https://github.com/python-restx/flask-restx) (replaces [Flask RESTPlus](https://flask-restplus.readthedocs.io/en/stable/)), [Flasgger](https://github.com/flasgger/flasgger), [APISpec](https://github.com/marshmallow-code/apispec), and many more.\n"
   ]
  },
  {
   "cell_type": "markdown",
   "metadata": {},
   "source": [
    "## The Problem\n",
    "Inaccurate data, mismatch between database layer and application layer, library defect, human error, invalid schemas.\n",
    "\n",
    "**Spectrum of defects**, not all errors are equal but they're never good, here's some examples.\n",
    "- Incorrect/non conforming schema, lower severity\n",
    "    - Waste engineering time 😴🥱\n",
    "    - Leads to incorrect assumptions 🧐\n",
    "    - Breaks client code generation 🤪\n",
    "- Unhandled error, lower severity\n",
    "    - Looks bad 🤨\n",
    "    - Inconvienience 😔😠\n",
    "    - Confusion 😕\n",
    "    - Further escalation? 😈\n",
    "- Logic errors, medium-high severity  \n",
    "    - Data corruption 😢\n",
    "    - Incorrect behaviour 🤔😨\n",
    "    - Crashed application 🤯🤬\n",
    "    - Negative/incorrect billing 🧾⚠️📉\n",
    "- Security problems, high-critical severity\n",
    "    - Denial of Service (DOS) 🚧⏳💸\n",
    "    - Data leak 📇💳📤😡\n",
    "    - Authentication bypass 👺🔓\n",
    "    - Remote code exectuion (RCE) ⚰️🧨\n",
    "\n",
    "Many of these problems can be found in tricky corner cases and between layers, and are often missed by traditional testing approaches."
   ]
  },
  {
   "cell_type": "markdown",
   "metadata": {},
   "source": [
    "## The Solution\n",
    "Property based testing (PBT) is great at finding corner casing and lets the computer do much of the heavy lifting in creating exhuastive tests. \n",
    "\n",
    "### Hypothesis\n",
    "The defacto standard for PBT in Python. A property models the behaviour of a piece of code given a certain type of input.\n",
    "\n",
    "### Modelling properties\n",
    "To test the application we need to model the properties and their input, but can we do better?  \n",
    "The nice things with schemas is that they specify the expected behaviour of the application for a defined type of input, sounds a bit like properties, doesn't it?\n",
    "\n",
    "Can we leverage this? Yes we can with Schemathesis!"
   ]
  },
  {
   "cell_type": "markdown",
   "metadata": {},
   "source": [
    "## Schemathesis\n",
    "Takes over where it's spiritual predecessor *Swagger-Conformance* left of, both are based on Hypothesis.\n",
    "Ispired from the QuickREST research paper.\n",
    "\n",
    "Automatically generates test cases based on what we already know about or application from our specs.\n",
    "\n",
    "\n",
    "### What do we already know?\n",
    "Turns out we already know quite a bit about our application\n",
    "\n",
    "`r = response`\n",
    "- r.status_code < 500\n",
    "- r.status_code in endpoint.responses\n",
    "- r.headers['Content-Type'] in endpoint.responses[r.status_code]\n",
    "- r.content matches spec endpoint.responses[r.status_code][r.headers['C…-Type']\n",
    "- Application should respond\n",
    "- Server shouldn't crash\n",
    "- Stateful chains should behave in expected manners (new feature, optional)\n",
    "    - Create resource\n",
    "    - Query created resource\n",
    "    - Update created resource\n",
    "    - Delete created resource\n",
    "- etc"
   ]
  },
  {
   "cell_type": "markdown",
   "metadata": {},
   "source": [
    "## What can schemathesis do more?\n",
    "Schemathesis can do quite a lot and more is comming!\n",
    "- CLI\n",
    "- Built in WSGI (and now ASGI) support\n",
    "    - Can import app directly for faster testing\n",
    "    - Uses flask internally for testing\n",
    "- HTTP interface\n",
    "    - Language/framework agnostic universal interface\n",
    "- pytest-interface\n",
    "- Stateful testing\n",
    "- Fixups\n",
    "    - Bultin fixups for FastAPI non-conformance to current OpenAPI spec.\n",
    "- Hooks (Global, Test, Schema)\n",
    "    - Customize the behaviour of schemathesis through hooks.\n",
    "- Targeted property based testing\n",
    "    - Search for desired goals, combines property based testing with search parameters, reducing randomness.\n",
    "- Record into VCR-cassettes\n",
    "    - Extra fields for http_interactions, id, status (SUCCES, FAILURE, ERROR), seed (for `--hypothesis-seed`) and elapsed for timing.\n",
    "    - Replay recoreded cassettes."
   ]
  },
  {
   "cell_type": "markdown",
   "metadata": {},
   "source": [
    "## CLI Interface\n",
    "Schemathesis implements a rather comprehensive CLI-interface exposing a lot of the functionallity.\n",
    "\n",
    "`schemathesis run http://127.0.0.1:5000/swagger.json`\n",
    "\n",
    "### WSGI/ASGI interface vs HTTP interface\n",
    "I'm a fan of using both, it great to test the entire chain with API-gateways, caching and whatever you may be running in production for a true end to end test.\n",
    "\n",
    "The WSGI/ASGI interface is useful for quicker local branch testing and for larger amounts of examples/data.\n",
    "\n",
    "`schemathesis run --app=flask_example:app /swagger.json`\n",
    "\n",
    "The HTTP Interface is framework (even language) agnostic and can really test and service with a schema specification, be it Python or Cobol.\n",
    "\n",
    "## pytest\n",
    "Schemathesis can also be used to generate strategies for pytest where we can define our own properties. \n",
    "\n",
    "Previously mentioned built in checks:\n",
    "- Not a server error (<500)\n",
    "- Status code conformance\n",
    "- Content type conformance\n",
    "- Response schema conformance\n",
    "\n",
    "Some suggestions to extend schemathesis with\n",
    "- Complex business rules\n",
    "- Response time/SLA\n",
    "- Authentication / 401\n",
    "\n",
    "\n",
    "From the documentation, tests that any data fitting the schema doesn't cause a server error\n",
    "```\n",
    "\n",
    "# test_api.py\n",
    "import requests\n",
    "import schemathesis\n",
    "\n",
    "schema = schemathesis.from_uri(\"http://0.0.0.0:8080/swagger.json\")\n",
    "\n",
    "@schema.parametrize()\n",
    "def test_no_server_errors(case):\n",
    "    # `requests` will make an appropriate call under the hood\n",
    "    response = case.call()  # use `call_wsgi` if you used `schemathesis.from_wsgi`\n",
    "    # You could use built-in checks\n",
    "    case.validate_response(response)\n",
    "    # Or assert the response manually\n",
    "    assert response.status_code < 500\n",
    "```\n",
    "\n",
    "## Stateful Testing\n",
    "Shown enhance detection of certain defects in the QuickREST research, and have recently been added to schemathesis.\n",
    "\n",
    "Schemathesis reuse data from previous requests and responses.  \n",
    "Resulting tests tend to reach further into the codebase.\n",
    "\n",
    "Requries `links` between objects, feature came with OpenAPI 3.0, but can be used with 2.0/Swagger with the x-links extension. _(will not work with Flask-RESTX out of the box)_\n",
    "\n",
    "```\n",
    "schemathesis run --stateful=links http://0.0.0.0/swagger.yaml\n",
    "\n",
    "...\n",
    "\n",
    "POST /api/users/ .                                     [ 33%]\n",
    "    -> GET /api/users/{user_id} .                      [ 50%]\n",
    "        -> PATCH /api/users/{user_id} .                [ 60%]\n",
    "    -> PATCH /api/users/{user_id} .                    [ 66%]\n",
    "GET /api/users/{user_id} .                             [ 83%]\n",
    "    -> PATCH /api/users/{user_id} .                    [ 85%]\n",
    "PATCH /api/users/{user_id} .                           [100%]\n",
    "\n",
    "...\n",
    "```"
   ]
  },
  {
   "cell_type": "markdown",
   "metadata": {},
   "source": [
    "## The Future\n",
    "\n",
    "- GraphQL\n",
    "- Schema standard agnostic\n",
    "- OpenAPI 3.1\n",
    "- Faster test generation\n",
    "- Grow the community\n",
    "- Improve documentation\n",
    "- …"
   ]
  },
  {
   "cell_type": "markdown",
   "metadata": {},
   "source": [
    "## Questions"
   ]
  },
  {
   "cell_type": "code",
   "execution_count": 1,
   "metadata": {},
   "outputs": [],
   "source": [
    "import schemathesis"
   ]
  },
  {
   "cell_type": "code",
   "execution_count": null,
   "metadata": {},
   "outputs": [],
   "source": [
    "schemathesis"
   ]
  }
 ],
 "metadata": {
  "kernelspec": {
   "display_name": "Python 3",
   "language": "python",
   "name": "python3"
  },
  "language_info": {
   "codemirror_mode": {
    "name": "ipython",
    "version": 3
   },
   "file_extension": ".py",
   "mimetype": "text/x-python",
   "name": "python",
   "nbconvert_exporter": "python",
   "pygments_lexer": "ipython3",
   "version": "3.8.0"
  }
 },
 "nbformat": 4,
 "nbformat_minor": 4
}
